{
 "cells": [
  {
   "cell_type": "code",
   "execution_count": 2,
   "id": "cd2f7cc1",
   "metadata": {},
   "outputs": [
    {
     "name": "stdout",
     "output_type": "stream",
     "text": [
      "loading annotations into memory...\n",
      "Done (t=0.24s)\n",
      "creating index...\n",
      "index created!\n"
     ]
    }
   ],
   "source": [
    "from mmdet.datasets import build_dataset\n",
    "from mmcv import Config\n",
    "from mmtrack.datasets import MOTChallengeDataset\n",
    "import os\n",
    "import os.path as osp\n",
    "import tempfile\n",
    "\n",
    "import mmcv\n",
    "import motmetrics as mm\n",
    "import numpy as np\n",
    "from mmcv.utils import print_log\n",
    "from mmdet.core import eval_map\n",
    "from mmdet.datasets import DATASETS\n",
    "\n",
    "from mmtrack.datasets.coco_video_dataset import CocoVideoDataset\n",
    "\n",
    "config = cfg = Config.fromfile('configs/mot/fairmot/jde_centernet_4e_mot17-private-half-lr5e-4.py')\n",
    "dataset = build_dataset(cfg.data.train)"
   ]
  },
  {
   "cell_type": "code",
   "execution_count": 3,
   "id": "8b8f6415",
   "metadata": {},
   "outputs": [
    {
     "data": {
      "text/plain": [
       "{'img_metas': DataContainer({'filename': 'data/MOT17/train/MOT17-02-FRCNN/img1/000001.jpg', 'ori_filename': 'MOT17-02-FRCNN/img1/000001.jpg', 'ori_shape': (1080, 1920, 3), 'img_shape': (608, 1081, 3), 'pad_shape': (608, 1088, 3), 'scale_factor': array([0.5630208 , 0.56296295, 0.5630208 , 0.56296295], dtype=float32), 'flip': True, 'flip_direction': 'horizontal', 'img_norm_cfg': {'mean': array([123.675, 116.28 , 103.53 ], dtype=float32), 'std': array([58.395, 57.12 , 57.375], dtype=float32), 'to_rgb': True}}),\n",
       " 'img': DataContainer(tensor([[[-2.1179, -2.1179, -2.1179,  ..., -1.3281, -1.3281, -1.3281],\n",
       "          [-2.1179, -2.1179, -2.1179,  ..., -1.3281, -1.3281, -1.3281],\n",
       "          [-2.1179, -2.1179, -2.1179,  ..., -1.3281, -1.3281, -1.3281],\n",
       "          ...,\n",
       "          [-2.1179, -2.1179, -2.1179,  ..., -1.2476, -1.2476, -1.2402],\n",
       "          [-2.1179, -2.1179, -2.1179,  ..., -1.2711, -1.2926, -1.3090],\n",
       "          [-2.1179, -2.1179, -2.1179,  ..., -1.4947, -1.5288, -1.5580]],\n",
       " \n",
       "         [[-2.0357, -2.0357, -2.0357,  ..., -1.2062, -1.2062, -1.2062],\n",
       "          [-2.0357, -2.0357, -2.0357,  ..., -1.2062, -1.2062, -1.2062],\n",
       "          [-2.0357, -2.0357, -2.0357,  ..., -1.2062, -1.2062, -1.2062],\n",
       "          ...,\n",
       "          [-2.0357, -2.0357, -2.0357,  ..., -1.1277, -1.1277, -1.1201],\n",
       "          [-2.0357, -2.0357, -2.0357,  ..., -1.1517, -1.1736, -1.1905],\n",
       "          [-2.0357, -2.0357, -2.0357,  ..., -1.3803, -1.4151, -1.4450]],\n",
       " \n",
       "         [[-1.8044, -1.8044, -1.8044,  ..., -1.1703, -1.1703, -1.1703],\n",
       "          [-1.8044, -1.8044, -1.8044,  ..., -1.1703, -1.1703, -1.1703],\n",
       "          [-1.8044, -1.8044, -1.8044,  ..., -1.1703, -1.1703, -1.1703],\n",
       "          ...,\n",
       "          [-1.8044, -1.8044, -1.8044,  ..., -0.8302, -0.8302, -0.8226],\n",
       "          [-1.8044, -1.8044, -1.8044,  ..., -0.8541, -0.8759, -0.8927],\n",
       "          [-1.8044, -1.8044, -1.8044,  ..., -1.0817, -1.1164, -1.1461]]])),\n",
       " 'gt_bboxes': DataContainer(tensor([[233.6537, 235.3185, 327.6782, 448.6815],\n",
       "         [703.2130, 251.6444, 751.0698, 399.7037],\n",
       "         [180.1667, 242.6370, 283.7625, 431.7926],\n",
       "         [466.1813, 272.4741, 486.4500, 334.4000],\n",
       "         [449.2906, 272.4741, 466.7443, 337.2148],\n",
       "         [355.8292, 251.6444, 374.4089, 307.9407],\n",
       "         [486.4500, 242.0741, 508.9708, 307.3778],\n",
       "         [439.7193, 248.2667, 461.1141, 309.0667],\n",
       "         [530.9286, 245.4518, 554.5755, 309.6296],\n",
       "         [773.0276, 251.0815, 832.1448, 410.4000],\n",
       "         [688.5745, 257.8370, 722.9188, 363.1111],\n",
       "         [284.3256, 244.3259, 313.0396, 314.1333],\n",
       "         [213.3849, 244.3259, 248.8552, 314.1333],\n",
       "         [764.5823, 258.9630, 814.6912, 399.1407],\n",
       "         [752.7589, 261.7778, 772.4646, 314.1333],\n",
       "         [823.1365, 258.4000, 845.6573, 305.6889],\n",
       "         [733.6161, 256.7111, 753.3219, 331.5852],\n",
       "         [515.7271, 256.7111, 533.7438, 300.0593],\n",
       "         [744.3135, 243.2000, 755.5740, 267.4074],\n",
       "         [735.3052, 241.5111, 745.4396, 265.1555],\n",
       "         [483.6349, 255.0222, 497.7104, 292.7407],\n",
       "         [688.5745, 253.8963, 707.7172, 302.3111]])),\n",
       " 'gt_labels': DataContainer(tensor([0, 0, 0, 0, 0, 0, 0, 0, 0, 0, 0, 0, 0, 0, 0, 0, 0, 0, 0, 0, 0, 0])),\n",
       " 'gt_instance_ids': DataContainer(tensor([ 0,  1,  2,  3,  4,  5,  6,  7,  8,  9, 10, 11, 12, 13, 14, 15, 16, 17,\n",
       "         18, 19, 20, 21]))}"
      ]
     },
     "execution_count": 3,
     "metadata": {},
     "output_type": "execute_result"
    }
   ],
   "source": [
    "dataset[0]"
   ]
  },
  {
   "cell_type": "code",
   "execution_count": null,
   "id": "7f170ea7",
   "metadata": {},
   "outputs": [],
   "source": []
  },
  {
   "cell_type": "code",
   "execution_count": null,
   "id": "36c6b0c3",
   "metadata": {},
   "outputs": [],
   "source": []
  }
 ],
 "metadata": {
  "kernelspec": {
   "display_name": "Python 3",
   "language": "python",
   "name": "python3"
  },
  "language_info": {
   "codemirror_mode": {
    "name": "ipython",
    "version": 3
   },
   "file_extension": ".py",
   "mimetype": "text/x-python",
   "name": "python",
   "nbconvert_exporter": "python",
   "pygments_lexer": "ipython3",
   "version": "3.7.10"
  }
 },
 "nbformat": 4,
 "nbformat_minor": 5
}
